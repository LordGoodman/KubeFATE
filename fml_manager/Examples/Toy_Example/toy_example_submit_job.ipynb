{
  "cells": [
    {
      "cell_type": "markdown",
      "metadata": {
        "pycharm": {}
      },
      "source": [
        "# Submit Training Job Demo"
      ]
    },
    {
      "cell_type": "code",
      "execution_count": 1,
      "metadata": {
        "pycharm": {}
      },
      "outputs": [],
      "source": "import json\nimport time\nimport os\nimport requests\n\nimport fml_manager\nfrom fml_manager import *"
    },
    {
      "cell_type": "markdown",
      "metadata": {
        "pycharm": {}
      },
      "source": [
        "The DSL and Config file can be presented in JOSN format. \n",
        "Submitting a job with JSON defined in line, can use ```submit_job(self,dsl, config)```. \n",
        "Note: the parameters are dict, the JSON string have to transform to dict with ```json.loads```"
      ]
    },
    {
      "cell_type": "code",
      "execution_count": 2,
      "metadata": {
        "pycharm": {}
      },
      "outputs": [],
      "source": "\n# dsl\nsecure_add_example \u003d ComponentBuilder()\\\n    .with_name(\u0027secure_add_example_0\u0027)\\\n    .with_module(\u0027SecureAddExample\u0027).build()\n        \n\ndsl \u003d PiplineBuilder()\\\n    .with_components(\n        secure_add_example).build()\n\n\n# Configuration\ninitiator \u003d InitiatorBuilder()\\\n    .with_role(\"guest\")\\\n    .with_party_id(9999).build()\n\n\njob_parameters \u003d JobParametersBuilder()\\\n    .with_work_mode(1).build()\n\nrole \u003d RoleBuilder()\\\n    .with_guest(9999)\\\n    .with_host(9999).build()\n\nsecure_add_example_guest_config \u003d {\n        \"seed\": [\n          123\n        ]\n      }\n\n\nsecure_add_example_host_config \u003d {\n        \"seed\": [\n          321\n        ]\n      }\nrole_parameters \u003d RoleParametersBuilder()\\\n    .with_host_module_config(modules\u003d[\u0027secure_add_example_0\u0027], configs\u003d[secure_add_example_host_config])\\\n    .with_guest_module_config(modules\u003d[\u0027secure_add_example_0\u0027], configs\u003d[secure_add_example_guest_config]).build()\n\nsecure_add_example \u003d {\n        \"partition\": 10,\n        \"data_num\": 1000\n    }\n\n\nalgorithm_parameters \u003d AlgorithmParametersBuilder()\\\n    .with_module_config(modules\u003d[\u0027secure_add_example_0\u0027], configs\u003d[secure_add_example]).build()\n\nconfig \u003d ConfigBuilder()\\\n    .with_initiator(initiator)\\\n    .with_job_parameters(job_parameters)\\\n    .with_role(role)\\\n    .with_role_parameters(role_parameters)\\\n    .with_algorithm_parameters(algorithm_parameters).build()\n\nmanager \u003d fml_manager.FMLManager()\nresponse \u003d manager.submit_job(dsl.to_dict(), config.to_dict())"
    },
    {
      "cell_type": "code",
      "execution_count": 3,
      "metadata": {
        "pycharm": {}
      },
      "outputs": [
        {
          "name": "stdout",
          "output_type": "stream",
          "text": [
            "Success!\n",
            "{\n",
            "    \"data\": {\n",
            "        \"board_url\": \"http://fateboard:8080/index.html#/dashboard?job_id\u003d2020063007202175889351\u0026role\u003dguest\u0026party_id\u003d9999\",\n",
            "        \"job_dsl_path\": \"/data/projects/fate/python/jobs/2020063007202175889351/job_dsl.json\",\n",
            "        \"job_runtime_conf_path\": \"/data/projects/fate/python/jobs/2020063007202175889351/job_runtime_conf.json\",\n",
            "        \"logs_directory\": \"/data/projects/fate/python/logs/2020063007202175889351\",\n",
            "        \"model_info\": {\n",
            "            \"model_id\": \"guest-9999#host-9999#model\",\n",
            "            \"model_version\": \"2020063007202175889351\"\n",
            "        }\n",
            "    },\n",
            "    \"jobId\": \"2020063007202175889351\",\n",
            "    \"retcode\": 0,\n",
            "    \"retmsg\": \"success\"\n",
            "}\n"
          ]
        }
      ],
      "source": [
        "manager.prettify(response, verbose\u003dTrue)\n",
        "stdout \u003d json.loads(response.content)\n",
        "jobid \u003d stdout[\"jobId\"]"
      ]
    },
    {
      "cell_type": "markdown",
      "metadata": {
        "pycharm": {}
      },
      "source": [
        "Once the job submitted, we can use ```def query_job(self, query_conditions)``` to query the status. the query_condition is a dict, and can add all job\u0027s attributes for querying."
      ]
    },
    {
      "cell_type": "code",
      "execution_count": 4,
      "metadata": {
        "pycharm": {}
      },
      "outputs": [
        {
          "name": "stdout",
          "output_type": "stream",
          "text": [
            "Success!\n",
            "{\n",
            "    \"data\": [\n",
            "        {\n",
            "            \"f_create_time\": 1593501621766,\n",
            "            \"f_current_steps\": null,\n",
            "            \"f_current_tasks\": null,\n",
            "            \"f_description\": \"\",\n",
            "            \"f_dsl\": \"{\\\"components\\\": {\\\"secure_add_example_0\\\": {\\\"module\\\": \\\"SecureAddExample\\\"}}}\",\n",
            "            \"f_elapsed\": null,\n",
            "            \"f_end_time\": null,\n",
            "            \"f_initiator_party_id\": \"9999\",\n",
            "            \"f_is_initiator\": 1,\n",
            "            \"f_job_id\": \"2020063007202175889351\",\n",
            "            \"f_name\": \"\",\n",
            "            \"f_party_id\": \"9999\",\n",
            "            \"f_progress\": 0,\n",
            "            \"f_role\": \"guest\",\n",
            "            \"f_roles\": \"{\\\"guest\\\": [9999], \\\"host\\\": [9999]}\",\n",
            "            \"f_run_ip\": \"192.167.0.6:9380\",\n",
            "            \"f_runtime_conf\": \"{\\\"initiator\\\": {\\\"role\\\": \\\"guest\\\", \\\"party_id\\\": 9999}, \\\"job_parameters\\\": {\\\"work_mode\\\": 1, \\\"model_id\\\": \\\"guest-9999#host-9999#model\\\", \\\"model_version\\\": \\\"2020063007202175889351\\\"}, \\\"role\\\": {\\\"guest\\\": [9999], \\\"host\\\": [9999]}, \\\"role_parameters\\\": {\\\"guest\\\": {\\\"secure_add_example_0\\\": {\\\"seed\\\": [123]}}, \\\"host\\\": {\\\"secure_add_example_0\\\": {\\\"seed\\\": [321]}}}, \\\"algorithm_parameters\\\": {\\\"secure_add_example_0\\\": {\\\"partition\\\": 10, \\\"data_num\\\": 1000}}}\",\n",
            "            \"f_start_time\": 1593501624223,\n",
            "            \"f_status\": \"running\",\n",
            "            \"f_tag\": \"end_waiting\",\n",
            "            \"f_train_runtime_conf\": \"{}\",\n",
            "            \"f_update_time\": 1593501624223,\n",
            "            \"f_work_mode\": 1\n",
            "        },\n",
            "        {\n",
            "            \"f_create_time\": 1593501621766,\n",
            "            \"f_current_steps\": null,\n",
            "            \"f_current_tasks\": null,\n",
            "            \"f_description\": \"\",\n",
            "            \"f_dsl\": \"{\\\"components\\\": {\\\"secure_add_example_0\\\": {\\\"module\\\": \\\"SecureAddExample\\\"}}}\",\n",
            "            \"f_elapsed\": null,\n",
            "            \"f_end_time\": null,\n",
            "            \"f_initiator_party_id\": \"9999\",\n",
            "            \"f_is_initiator\": 0,\n",
            "            \"f_job_id\": \"2020063007202175889351\",\n",
            "            \"f_name\": \"\",\n",
            "            \"f_party_id\": \"9999\",\n",
            "            \"f_progress\": 0,\n",
            "            \"f_role\": \"host\",\n",
            "            \"f_roles\": \"{\\\"guest\\\": [9999], \\\"host\\\": [9999]}\",\n",
            "            \"f_run_ip\": \"192.167.0.6:9380\",\n",
            "            \"f_runtime_conf\": \"{\\\"initiator\\\": {\\\"role\\\": \\\"guest\\\", \\\"party_id\\\": 9999}, \\\"job_parameters\\\": {\\\"work_mode\\\": 1, \\\"model_id\\\": \\\"guest-9999#host-9999#model\\\", \\\"model_version\\\": \\\"2020063007202175889351\\\"}, \\\"role\\\": {\\\"guest\\\": [9999], \\\"host\\\": [9999]}, \\\"role_parameters\\\": {\\\"guest\\\": {\\\"secure_add_example_0\\\": {\\\"seed\\\": [123]}}, \\\"host\\\": {\\\"secure_add_example_0\\\": {\\\"seed\\\": [321]}}}, \\\"algorithm_parameters\\\": {\\\"secure_add_example_0\\\": {\\\"partition\\\": 10, \\\"data_num\\\": 1000}}}\",\n",
            "            \"f_start_time\": 1593501624223,\n",
            "            \"f_status\": \"running\",\n",
            "            \"f_tag\": \"end_waiting\",\n",
            "            \"f_train_runtime_conf\": \"{}\",\n",
            "            \"f_update_time\": 1593501624223,\n",
            "            \"f_work_mode\": 1\n",
            "        }\n",
            "    ],\n",
            "    \"retcode\": 0,\n",
            "    \"retmsg\": \"success\"\n",
            "}\n"
          ]
        },
        {
          "data": {
            "text/plain": [
              "\u003cResponse [200]\u003e"
            ]
          },
          "execution_count": 4,
          "metadata": {},
          "output_type": "execute_result"
        }
      ],
      "source": [
        "query_condition \u003d {\n",
        "    \"job_id\":jobid\n",
        "}\n",
        "job_status \u003d manager.query_job(query_condition)\n",
        "manager.prettify(job_status, verbose\u003dTrue)"
      ]
    },
    {
      "cell_type": "code",
      "execution_count": 5,
      "metadata": {
        "pycharm": {}
      },
      "outputs": [
        {
          "name": "stdout",
          "output_type": "stream",
          "text": [
            "Status: success\n"
          ]
        },
        {
          "data": {
            "text/plain": [
              "\u0027success\u0027"
            ]
          },
          "execution_count": 5,
          "metadata": {},
          "output_type": "execute_result"
        }
      ],
      "source": [
        "manager.query_job_status(query_condition)"
      ]
    },
    {
      "cell_type": "markdown",
      "metadata": {
        "pycharm": {}
      },
      "source": [
        "We can also fetch the logs of job submitted, and save it to working folder."
      ]
    },
    {
      "cell_type": "code",
      "execution_count": 6,
      "metadata": {
        "pycharm": {}
      },
      "outputs": [
        {
          "name": "stdout",
          "output_type": "stream",
          "text": [
            "{\u0027retcode\u0027: 0, \u0027directory\u0027: \u0027./job_2020063007202175889351_log\u0027, \u0027retmsg\u0027: \u0027download successfully, please check ./job_2020063007202175889351_log directory, file name is job_2020063007202175889351_log.tar.gz\u0027}\n"
          ]
        }
      ],
      "source": [
        "response \u003d manager.fetch_job_log(jobid)"
      ]
    },
    {
      "cell_type": "code",
      "execution_count": null,
      "metadata": {
        "pycharm": {}
      },
      "outputs": [],
      "source": []
    }
  ],
  "metadata": {
    "kernelspec": {
      "display_name": "Python 3",
      "language": "python",
      "name": "python3"
    },
    "language_info": {
      "codemirror_mode": {
        "name": "ipython",
        "version": 3
      },
      "file_extension": ".py",
      "mimetype": "text/x-python",
      "name": "python",
      "nbconvert_exporter": "python",
      "pygments_lexer": "ipython3",
      "version": "3.6.9"
    }
  },
  "nbformat": 4,
  "nbformat_minor": 2
}