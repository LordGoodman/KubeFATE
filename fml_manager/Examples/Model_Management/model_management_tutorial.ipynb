{
  "cells": [
    {
      "cell_type": "markdown",
      "metadata": {
        "pycharm": {}
      },
      "source": [
        "# Model Management Demo"
      ]
    },
    {
      "cell_type": "markdown",
      "metadata": {
        "pycharm": {}
      },
      "source": [
        "Before managing models, we need to prepare a model by training. In this example, we use the homo_logistic_regression(https://github.com/FederatedAI/FATE/tree/master/examples/federatedml-1.x-examples/homo_logistic_regression example. "
      ]
    },
    {
      "cell_type": "code",
      "execution_count": 5,
      "metadata": {
        "pycharm": {}
      },
      "outputs": [
        {
          "name": "stdout",
          "output_type": "stream",
          "text": [
            "{\u0027data\u0027: {\u0027board_url\u0027: \u0027http://fateboard:8080/index.html#/dashboard?job_id\u003d2020042011073298433874\u0026role\u003dlocal\u0026party_id\u003d0\u0027, \u0027job_dsl_path\u0027: \u0027/data/projects/fate/python/jobs/2020042011073298433874/job_dsl.json\u0027, \u0027job_runtime_conf_path\u0027: \u0027/data/projects/fate/python/jobs/2020042011073298433874/job_runtime_conf.json\u0027, \u0027logs_directory\u0027: \u0027/data/projects/fate/python/logs/2020042011073298433874\u0027, \u0027namespace\u0027: \u0027homo_breast_guest\u0027, \u0027table_name\u0027: \u0027homo_breast_guest\u0027}, \u0027jobId\u0027: \u00272020042011073298433874\u0027, \u0027retcode\u0027: 0, \u0027retmsg\u0027: \u0027success\u0027}\n",
            "running,running,running\n",
            "running,running,running\n",
            "running,running,running\n",
            "running,success,success\n",
            "running,success,success\n",
            "running,success,success\n",
            "success,success,success\n",
            "Success\n",
            "Success!\n",
            "{\n",
            "    \"data\": {\n",
            "        \"board_url\": \"http://fateboard:8080/index.html#/dashboard?job_id\u003d2020042011074074717177\u0026role\u003dguest\u0026party_id\u003d10000\",\n",
            "        \"job_dsl_path\": \"/data/projects/fate/python/jobs/2020042011074074717177/job_dsl.json\",\n",
            "        \"job_runtime_conf_path\": \"/data/projects/fate/python/jobs/2020042011074074717177/job_runtime_conf.json\",\n",
            "        \"logs_directory\": \"/data/projects/fate/python/logs/2020042011074074717177\",\n",
            "        \"model_info\": {\n",
            "            \"model_id\": \"arbiter-10000#guest-10000#host-10000#model\",\n",
            "            \"model_version\": \"2020042011074074717177\"\n",
            "        }\n",
            "    },\n",
            "    \"jobId\": \"2020042011074074717177\",\n",
            "    \"retcode\": 0,\n",
            "    \"retmsg\": \"success\"\n",
            "}\n",
            "running\n",
            "running\n",
            "running\n",
            "running\n",
            "running\n",
            "running\n",
            "running\n",
            "running\n",
            "running\n",
            "running\n",
            "running\n",
            "running\n",
            "running\n",
            "running\n",
            "running\n",
            "running\n",
            "running\n",
            "running\n",
            "running\n",
            "running\n",
            "running\n",
            "running\n",
            "running\n",
            "running\n",
            "running\n",
            "running\n",
            "running\n",
            "running\n",
            "running\n",
            "running\n",
            "running\n",
            "running\n",
            "running\n",
            "running\n",
            "running\n",
            "running\n",
            "running\n",
            "running\n",
            "running\n",
            "running\n",
            "running\n",
            "running\n",
            "running\n",
            "running\n",
            "running\n",
            "running\n",
            "running\n",
            "running\n",
            "running\n",
            "running\n",
            "running\n",
            "running\n",
            "running\n",
            "running\n",
            "running\n",
            "running\n",
            "running\n",
            "running\n",
            "running\n",
            "running\n",
            "running\n",
            "running\n",
            "running\n",
            "running\n",
            "running\n",
            "running\n",
            "running\n",
            "running\n",
            "running\n",
            "running\n",
            "running\n",
            "running\n",
            "running\n",
            "running\n",
            "running\n",
            "running\n",
            "running\n",
            "running\n",
            "running\n",
            "running\n",
            "running\n",
            "running\n",
            "running\n",
            "running\n",
            "running\n",
            "running\n",
            "running\n",
            "running\n",
            "running\n",
            "running\n",
            "running\n",
            "running\n",
            "running\n",
            "running\n",
            "running\n",
            "running\n",
            "running\n",
            "running\n",
            "running\n",
            "running\n",
            "running\n",
            "running\n",
            "running\n",
            "running\n",
            "running\n",
            "running\n",
            "running\n",
            "running\n",
            "running\n",
            "running\n",
            "running\n",
            "running\n",
            "running\n",
            "running\n",
            "running\n",
            "running\n",
            "success\n",
            "Success\n",
            "Success!\n",
            "{\n",
            "    \"data\": {\n",
            "        \"board_url\": \"http://fateboard:8080/index.html#/dashboard?job_id\u003d2020042011074074717177\u0026role\u003dguest\u0026party_id\u003d10000\",\n",
            "        \"job_dsl_path\": \"/data/projects/fate/python/jobs/2020042011074074717177/job_dsl.json\",\n",
            "        \"job_runtime_conf_path\": \"/data/projects/fate/python/jobs/2020042011074074717177/job_runtime_conf.json\",\n",
            "        \"logs_directory\": \"/data/projects/fate/python/logs/2020042011074074717177\",\n",
            "        \"model_info\": {\n",
            "            \"model_id\": \"arbiter-10000#guest-10000#host-10000#model\",\n",
            "            \"model_version\": \"2020042011074074717177\"\n",
            "        }\n",
            "    },\n",
            "    \"jobId\": \"2020042011074074717177\",\n",
            "    \"retcode\": 0,\n",
            "    \"retmsg\": \"success\"\n",
            "}\n"
          ]
        }
      ],
      "source": "import fml_manager\nimport json, time, requests\nimport os\nfrom fml_manager import *\n\nmanager \u003d fml_manager.FMLManager()\nresponse \u003d manager.load_data(\"examples/data/breast_homo_guest.csv\", \"homo_breast_guest\", \"homo_breast_guest\", 1, 1, 10, api_version\u003d\"1.4\")\noutput \u003d json.loads(response.content)\nprint(output)\nguest_job_id \u003d output[\"jobId\"]\nguest_query_condition \u003d {\n    \"job_id\":guest_job_id\n}\nresponse \u003d manager.load_data(\"examples/data/breast_homo_host.csv\", \"homo_breast_host\", \"homo_breast_host\", 1, 1, 10, api_version\u003d\"1.4\")\noutput \u003d json.loads(response.content)\nhost_job_id \u003d output[\"jobId\"]\nhost_query_condition \u003d {\n    \"job_id\":host_job_id\n}\nresponse \u003d manager.load_data(\"examples/data/breast_homo_test.csv\", \"homo_breast_test\", \"homo_breast_test\", 1, 1, 10, api_version\u003d\"1.4\")\noutput \u003d json.loads(response.content)\ntest_job_id \u003d output[\"jobId\"]\ntest_query_condition \u003d {\n    \"job_id\":test_job_id\n}\n\nfor i in range(500):\n    time.sleep(1)\n    guest_status \u003d manager.query_job(guest_query_condition).json()[\"data\"][0][\"f_status\"]\n    host_status \u003d manager.query_job(host_query_condition).json()[\"data\"][0][\"f_status\"]\n    test_status \u003d manager.query_job(host_query_condition).json()[\"data\"][0][\"f_status\"]\n    \n    print(\"{},{},{}\".format(guest_status, host_status, test_status))\n    \n    if guest_status \u003d\u003d \"failed\" or host_status \u003d\u003d \"failed\" or test_status \u003d\u003d \"failed\":\n        print(\"Failed\")\n        raise Exception(\"Failed to run the jobs\")\n    if guest_status \u003d\u003d \"success\" and host_status \u003d\u003d \"success\" and test_status \u003d\u003d \"success\":\n        print(\"Success\")       \n        break\n\n\n\n# dsl\ndata_io \u003d ComponentBuilder()\\\n    .with_name(\u0027dataio_0\u0027)\\\n    .with_module(\u0027DataIO\u0027)\\\n    .with_input_data(\u0027args.train_data\u0027)\\\n    .with_output_data(\u0027train\u0027)\\\n    .with_output_model(\u0027dataio\u0027).build()\n        \n\nhomo_lr \u003d ComponentBuilder()\\\n    .with_name(\u0027homo_lr_0\u0027)\\\n    .with_module(\u0027HomoLR\u0027)\\\n    .with_input_train_data(\u0027dataio_0.train\u0027)\\\n    .with_output_data(\u0027train\u0027)\\\n    .with_output_model(\u0027homolr\u0027).build()\n\nevaluation \u003d ComponentBuilder()\\\n    .with_name(\u0027evaluation_0\u0027)\\\n    .with_module(\u0027Evaluation\u0027)\\\n    .with_input_data(\u0027homo_lr_0.train\u0027)\\\n    .with_output_data(\u0027evaluate\u0027).build()\n\ndsl \u003d PiplineBuilder()\\\n    .with_components(\n        data_io, \n        hetero_lr, \n        evaluation).build()\n\n\n\n# Configuration\ninitiator \u003d InitiatorBuilder()\\\n    .with_role(\"guest\")\\\n    .with_party_id(10000).build()\n\n\njob_parameters \u003d JobParametersBuilder()\\\n    .with_work_mode(1).build()\n\nrole \u003d RoleBuilder()\\\n    .with_guest(10000)\\\n    .with_host(10000)\\\n    .with_arbiter(10000).build()\n\neval_config \u003d {\n       \"need_run\": [False]\n }\n\nrole_parameters \u003d RoleParametersBuilder()\\\n    .with_guest_train_data(namespaces\u003d[\u0027homo_breast_guest\u0027], names\u003d[\u0027homo_breast_guest\u0027])\\\n    .with_host_train_data(namespaces\u003d[\u0027homo_breast_host\u0027], names\u003d[\u0027homo_breast_host\u0027])\\\n    .with_host_module_config(modules\u003d[\u0027evalution_0\u0027], configs\u003d[eval_config]).build()\n\n\nhomo_lr_params \u003d {\n            \"penalty\": \"L2\",\n            \"optimizer\": \"sgd\",\n            \"eps\": 1e-5,\n            \"alpha\": 0.01,\n            \"max_iter\": 10,\n            \"converge_func\": \"diff\",\n            \"batch_size\": 500,\n            \"learning_rate\": 0.15,\n            \"decay\": 1,\n            \"decay_sqrt\": True,\n            \"init_param\": {\n                \"init_method\": \"zeros\"\n            },\n            \"encrypt_param\": {\n                \"method\": \"Paillier\"\n            },\n            \"cv_param\": {\n                \"n_splits\": 4,\n                \"shuffle\": True,\n                \"random_seed\": 33,\n                \"need_cv\": False\n            }\n        }\n\ndotaio_config \u003d {\n            \"with_label\": True,\n            \"label_name\": \"y\",\n            \"label_type\": \"int\",\n            \"output_format\": \"dense\"\n        },\n\nalgorithm_parameters \u003d AlgorithmParametersBuilder()\\\n    .with_module_config(modules\u003d[\u0027homo_lr_0\u0027, \u0027dataio_0\u0027], configs\u003d[homo_lr_params, dotaio_config]).build()\n\nconfig \u003d ConfigBuilder()\\\n    .with_initiator(initiator)\\\n    .with_job_parameters(job_parameters)\\\n    .with_role(role)\\\n    .with_role_parameters(role_parameters)\\\n    .with_algorithm_parameters(algorithm_parameters).build()\n\nresponse \u003d manager.submit_job(dsl.to_dict(),config.to_dict())\nmanager.prettify(response, True)\nstdout \u003d json.loads(response.content)\njobId \u003d stdout[\"jobId\"]\nquery_condition \u003d {\n    \"job_id\":jobId\n}\n\nmodel_id, model_version \u003d \"\", \"\"\nfor i in range(500):\n    time.sleep(1)\n    job_detail \u003d manager.query_job(query_condition).json()\n    final_status \u003d job_detail[\"data\"][0][\"f_status\"]\n    print(final_status)\n    \n    if final_status \u003d\u003d \"failed\":\n        print(\"Failed\")\n        manager.prettify(job_detail, True)\n        response \u003d manager.fetch_job_log(jobId)\n        raise Exception(\"Failed to run the job\")\n    if final_status \u003d\u003d \"success\":\n        print(\"Success\")\n        manager.prettify(response, True)\n        output \u003d json.loads(response.content)\n        model_id, model_version \u003d output[\"data\"][\"model_info\"][\"model_id\"], output[\"data\"][\"model_info\"][\"model_version\"]\n        break"
    },
    {
      "cell_type": "markdown",
      "metadata": {
        "pycharm": {}
      },
      "source": [
        "Print existed model, the API is: ```print_model_version(self, role, party_id, model_id)```"
      ]
    },
    {
      "cell_type": "code",
      "execution_count": 6,
      "metadata": {
        "pycharm": {}
      },
      "outputs": [
        {
          "name": "stdout",
          "output_type": "stream",
          "text": [
            "Success!\n",
            "{\n",
            "    \"data\": [\n",
            "        {\n",
            "            \"commitId\": \"2020042011074074717177\",\n",
            "            \"log\": \"[AUTO] save model at 2020-04-20 11:09:40.165231.\",\n",
            "            \"name\": \"2020042011074074717177\",\n",
            "            \"namespace\": \"guest#10000#arbiter-10000#guest-10000#host-10000#model\",\n",
            "            \"parent\": \"2020042011022342527372\",\n",
            "            \"repeatCommit\": true,\n",
            "            \"tag\": null\n",
            "        },\n",
            "        {\n",
            "            \"commitId\": \"2020042011022342527372\",\n",
            "            \"log\": \"[AUTO] save model at 2020-04-20 11:06:17.494397.\",\n",
            "            \"name\": \"2020042011022342527372\",\n",
            "            \"namespace\": \"guest#10000#arbiter-10000#guest-10000#host-10000#model\",\n",
            "            \"parent\": \"2020042010084278627567\",\n",
            "            \"repeatCommit\": true,\n",
            "            \"tag\": null\n",
            "        },\n",
            "        {\n",
            "            \"commitId\": \"2020042010084278627567\",\n",
            "            \"log\": \"[AUTO] save model at 2020-04-20 10:13:33.310625.\",\n",
            "            \"name\": \"2020042010084278627567\",\n",
            "            \"namespace\": \"guest#10000#arbiter-10000#guest-10000#host-10000#model\",\n",
            "            \"parent\": \"2020042009122786739056\",\n",
            "            \"repeatCommit\": true,\n",
            "            \"tag\": null\n",
            "        },\n",
            "        {\n",
            "            \"commitId\": \"2020042009122786739056\",\n",
            "            \"log\": \"[AUTO] save model at 2020-04-20 10:04:07.545335.\",\n",
            "            \"name\": \"2020042009122786739056\",\n",
            "            \"namespace\": \"guest#10000#arbiter-10000#guest-10000#host-10000#model\",\n",
            "            \"parent\": \"2020042009081081759152\",\n",
            "            \"repeatCommit\": true,\n",
            "            \"tag\": null\n",
            "        },\n",
            "        {\n",
            "            \"commitId\": \"2020042009081081759152\",\n",
            "            \"log\": \"[AUTO] save model at 2020-04-20 09:10:29.357328.\",\n",
            "            \"name\": \"2020042009081081759152\",\n",
            "            \"namespace\": \"guest#10000#arbiter-10000#guest-10000#host-10000#model\",\n",
            "            \"parent\": \"2020042008513api_version\u003d\"1.4\"681344\",\n",
            "            \"repeatCommit\": true,\n",
            "            \"tag\": null\n",
            "        },\n",
            "        {\n",
            "            \"commitId\": \"2020042008513api_version\u003d\"1.4\"681344\",\n",
            "            \"log\": \"[AUTO] save model at 2020-04-20 08:5api_version\u003d\"1.4\"5.427548.\",\n",
            "            \"name\": \"2020042008513api_version\u003d\"1.4\"681344\",\n",
            "            \"namespace\": \"guest#10000#arbiter-10000#guest-10000#host-10000#model\",\n",
            "            \"parent\": \"2020042008495252468240\",\n",
            "            \"tag\": null\n",
            "        },\n",
            "        {\n",
            "            \"commitId\": \"2020042008495252468240\",\n",
            "            \"log\": \"[AUTO] save model at 2020-04-20 08:49:56.606507.\",\n",
            "            \"name\": \"2020042008495252468240\",\n",
            "            \"namespace\": \"guest#10000#arbiter-10000#guest-10000#host-10000#model\",\n",
            "            \"parent\": \"2020042008494205128236\",\n",
            "            \"tag\": null\n",
            "        },\n",
            "        {\n",
            "            \"commitId\": \"2020042008494205128236\",\n",
            "            \"log\": \"[AUTO] save model at 2020-04-20 08:49:46.874495.\",\n",
            "            \"name\": \"2020042008494205128236\",\n",
            "            \"namespace\": \"guest#10000#arbiter-10000#guest-10000#host-10000#model\",\n",
            "            \"parent\": \"2020042008480590014232\",\n",
            "            \"tag\": null\n",
            "        },\n",
            "        {\n",
            "            \"commitId\": \"2020042008480590014232\",\n",
            "            \"log\": \"[AUTO] save model at 2020-04-20 08:48:10.868260.\",\n",
            "            \"name\": \"2020042008480590014232\",\n",
            "            \"namespace\": \"guest#10000#arbiter-10000#guest-10000#host-10000#model\",\n",
            "            \"parent\": \"2020042008464736494228\",\n",
            "            \"tag\": null\n",
            "        },\n",
            "        {\n",
            "            \"commitId\": \"2020042008464736494228\",\n",
            "            \"log\": \"[AUTO] save model at 2020-04-20 08:46:52.258443.\",\n",
            "            \"name\": \"2020042008464736494228\",\n",
            "            \"namespace\": \"guest#10000#arbiter-10000#guest-10000#host-10000#model\",\n",
            "            \"parent\": \"2020042008460920911924\",\n",
            "            \"tag\": null\n",
            "        }\n",
            "    ],\n",
            "    \"retcode\": 0,\n",
            "    \"retmsg\": \"success\"\n",
            "}\n"
          ]
        }
      ],
      "source": [
        "if model_id !\u003d \"\":\n",
        "    response \u003d manager.print_model_version(\"guest\",\"10000\", model_id)"
      ]
    },
    {
      "cell_type": "markdown",
      "metadata": {
        "pycharm": {}
      },
      "source": [
        "Output the model, the API is ```model_output(self, role, party_id, model_id, model_version，model_component)```. The ```model_component``` is what you defined in training conf. The output is base64 encoding, which need decoding and parsing back."
      ]
    },
    {
      "cell_type": "code",
      "execution_count": 7,
      "metadata": {
        "pycharm": {}
      },
      "outputs": [
        {
          "name": "stdout",
          "output_type": "stream",
          "text": [
            "{\u0027metadata\u0027: \u0027CgJMMhHxaOOItfjkPhl7FK5H4XqEPyIDc2dkMPQDOTMzMzMzM8M/QApKBGRpZmZQAlgB\u0027, \u0027parameters\u0027: \u0027CAoSUP4QBQQ+79o/Y+ScSvKa1j+RTreM/XfUPyk/T2KsNtM/ik0jT2po0j+lMOUXo9zRPwWjqz1MetE/3VWUfhkz0T8KB2etSv7QP52mdO1A1tA/Ig0KAngwEbFDSoWA/sG/Ig0KAngxEcob/dudLr6/Ig0KAngyEWYZ+hcRpMG/Ig0KAngzEfmv/7Rc+r+/Ig0KAng0EbDD/W9RW7m/Ig0KAng1EbyOMlppJri/Ig0KAng2EbMEbULVqru/Ig0KAng3ERQQVXbn+MG/Ig0KAng4EW6/Nt4yu7W/Ig0KAng5EQZZbnGtrKW/Ig4KA3gxMBEsGFvBSI3AvyIOCgN4MTERZZM+KKAGur8iDgoDeDEyEc6PglYzgMC/Ig4KA3gxMxHa0QRjolK+vyIOCgN4MTQR9tqVWW+Fr78iDgoDeDE1EUAimmbYbLO/Ig4KA3gyMBG6wwtUoXG0vyIOCgN4MTYRH2mQvHuRur8iDgoDeDIxEdeP/oYJfnY/Ig4KA3gxNxFSVtQreM/AvyIOCgN4MjIRzAmY7no3sr8iDgoDeDIzEcwFGjerVbK/Ig4KA3gxOBHDXhlmJQ2rvyIOCgN4MjQRoPtqyzc7iD8iDgoDeDE5EXaSYAuFHaM/Ig4KA3gyNRGNsnK5wSqBvyIOCgN4MjYRSLDRsrf0Gj8iDgoDeDI3EUcfkMZaT6a/Ig4KA3gyOBHYUPahnWidPyIOCgN4MjkRXdrDc3/ooD8pCQy8iYha4T8yAngwMgJ4MTICeDIyAngzMgJ4NDICeDUyAng2MgJ4NzICeDgyAng5MgN4MTAyA3gxMTIDeDEyMgN4MTMyA3gxNDIDeDE1MgN4MTYyA3gxNzIDeDE4MgN4MTkyA3gyMDIDeDIxMgN4MjIyA3gyMzIDeDI0MgN4MjUyA3gyNjIDeDI3MgN4MjgyA3gyOQ\u003d\u003d\u0027}\n"
          ]
        }
      ],
      "source": [
        "response \u003d manager.model_output(\"guest\",\"10000\", model_id, model_version, \"homo_lr_0.homolr:HomoLogisticRegression\")"
      ]
    },
    {
      "cell_type": "markdown",
      "metadata": {
        "pycharm": {}
      },
      "source": [
        "And we can try offline prediction feature."
      ]
    },
    {
      "cell_type": "code",
      "execution_count": 8,
      "metadata": {
        "pycharm": {}
      },
      "outputs": [
        {
          "name": "stdout",
          "output_type": "stream",
          "text": [
            "{\"data\":{\"board_url\":\"http://fateboard:8080/index.html#/dashboard?job_id\u003d2020042011api_version\u003d\"1.4\"807243678\u0026role\u003dguest\u0026party_id\u003d10000\",\"job_dsl_path\":\"/data/projects/fate/python/jobs/2020042011103807243678/job_dsl.json\",\"job_runtime_conf_path\":\"/data/projects/fate/python/jobs/2020042011103807243678/job_runtime_conf.json\",\"logs_directory\":\"/data/projects/fate/python/logs/2020042011103807243678\",\"model_info\":{\"model_id\":\"arbiter-10000#guest-10000#host-10000#model\",\"model_version\":\"2020042011074074717177\"}},\"jobId\":\"2020042011103807243678\",\"retcode\":0,\"retmsg\":\"success\"}\n",
            "\n"
          ]
        }
      ],
      "source": [
        "is_vertical \u003d False\n",
        "initiator_party_role \u003d \"guest\"\n",
        "initiator_party_id \u003d \"10000\"\n",
        "work_mode \u003d 1\n",
        "federated_roles \u003d {\n",
        "        \"guest\": [10000],\n",
        "        \"host\": [10000],\n",
        "        \"arbiter\": [10000]\n",
        "}\n",
        "guest_data_name \u003d \"homo_breast_test\"\n",
        "guest_data_namespace \u003d \"homo_breast_test\"\n",
        "host_data_name \u003d \"homo_breast_test\"\n",
        "host_data_namespace \u003d \"homo_breast_test\"\n",
        "\n",
        "response \u003d manager.offline_predict_on_dataset(is_vertical, initiator_party_role, initiator_party_id, work_mode, model_id, model_version, federated_roles, guest_data_name, guest_data_namespace, host_data_name, host_data_namespace)\n",
        "print(response.text)"
      ]
    },
    {
      "cell_type": "markdown",
      "metadata": {
        "pycharm": {}
      },
      "source": [
        "The result can be checked in FATE-Board."
      ]
    }
  ],
  "metadata": {
    "kernelspec": {
      "display_name": "Python 3",
      "language": "python",
      "name": "python3"
    },
    "language_info": {
      "codemirror_mode": {
        "name": "ipython",
        "version": 3
      },
      "file_extension": ".py",
      "mimetype": "text/x-python",
      "name": "python",
      "nbconvert_exporter": "python",
      "pygments_lexer": "ipython3",
      "version": "3.6.5"
    }
  },
  "nbformat": 4,
  "nbformat_minor": 2
}